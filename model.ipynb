{
 "cells": [
  {
   "cell_type": "code",
   "execution_count": 11,
   "id": "9f6e1630",
   "metadata": {},
   "outputs": [],
   "source": [
    "import tensorflow as tf\n",
    "from tensorflow.keras.models import Sequential\n",
    "from tensorflow.keras.layers import Dense\n",
    "from tensorflow.keras.activations import linear, relu, sigmoid\n",
    "import numpy as np\n",
    "import pandas\n",
    "from sklearn.preprocessing import StandardScaler\n",
    "from tensorflow.keras.optimizers.legacy import Adam\n",
    "from tensorflow.keras.regularizers import L2\n",
    "from xgboost import XGBClassifier, XGBRegressor\n",
    "from tensorflow.keras.losses import MeanSquaredError\n",
    "tf.random.set_seed(1048596)\n",
    "seed()"
   ]
  },
  {
   "cell_type": "code",
   "execution_count": null,
   "id": "420249bd",
   "metadata": {},
   "outputs": [
    {
     "name": "stdout",
     "output_type": "stream",
     "text": [
      "[[   38     9     0     0]\n",
      " [   18    10     0     0]\n",
      " [   63    15  3103     0]\n",
      " ...\n",
      " [   22    10     0     0]\n",
      " [   27    12     0     0]\n",
      " [   52     9 15024     0]]\n",
      "[[-0.05166288 -0.42214933 -0.14583034 -0.21728043]\n",
      " [-1.50921398 -0.03216345 -0.14583034 -0.21728043]\n",
      " [ 1.77027599  1.91776592  0.26576014 -0.21728043]\n",
      " ...\n",
      " [-1.21770376 -0.03216345 -0.14583034 -0.21728043]\n",
      " [-0.85331599  0.7478083  -0.14583034 -0.21728043]\n",
      " [ 0.96862288 -0.42214933  1.84699447 -0.21728043]]\n",
      "\n",
      "\n",
      " And this is y_train\n",
      "[ 89814 103497 104626 ... 310152 257302 287927]\n",
      "Epoch 1/30\n",
      "   9/1145 [..............................] - ETA: 7s - loss: 51545329664.0000  "
     ]
    },
    {
     "name": "stderr",
     "output_type": "stream",
     "text": [
      "2023-01-04 14:21:04.664421: I tensorflow/core/grappler/optimizers/custom_graph_optimizer_registry.cc:113] Plugin optimizer for device_type GPU is enabled.\n"
     ]
    },
    {
     "name": "stdout",
     "output_type": "stream",
     "text": [
      "1145/1145 [==============================] - 8s 7ms/step - loss: 18927927296.0000\n",
      "Epoch 2/30\n",
      "1145/1145 [==============================] - 9s 7ms/step - loss: 11208261632.0000\n",
      "Epoch 3/30\n",
      "1145/1145 [==============================] - 7s 6ms/step - loss: 11136803840.0000\n",
      "Epoch 4/30\n",
      "1145/1145 [==============================] - 7s 6ms/step - loss: 11122014208.0000\n",
      "Epoch 5/30\n",
      "1145/1145 [==============================] - 7s 6ms/step - loss: 11108233216.0000\n",
      "Epoch 6/30\n",
      "1145/1145 [==============================] - 7s 6ms/step - loss: 11107624960.0000\n",
      "Epoch 7/30\n",
      " 981/1145 [========================>.....] - ETA: 0s - loss: 11062247424.0000"
     ]
    }
   ],
   "source": [
    "data_train = pandas.read_csv(\"adult-fnlwgt-train.csv\").to_numpy()\n",
    "# print(data_train_2)\n",
    "\n",
    "scaler = StandardScaler()\n",
    "\n",
    "X_train = data_train[:,1:-1]\n",
    "y_train = data_train[:,0]\n",
    "# y_train = np.reshape(y_train,(-1,1))\n",
    "print(X_train)\n",
    "\n",
    "X_train = scaler.fit_transform(X_train)\n",
    "# y_train = (y_train)\n",
    "print(X_train)\n",
    "print(\"\\n\\n And this is y_train\")\n",
    "print(y_train)\n",
    "\n",
    "data_test = pandas.read_csv(\"adult-fnlwgt-test.csv\").to_numpy()\n",
    "\n",
    "X_test = scaler.transform(data_test[:,1:-1])\n",
    "y_test = data_test[:,0]\n",
    "# y_test = np.reshape(y_test,(-1,1))\n",
    "# y_test = scaler.transform(y_test)\n",
    "\n",
    "model = Sequential([\n",
    "    Dense(units = 256, activation = \"relu\", kernel_regularizer = L2(0.01)),\n",
    "    Dense(units = 128, activation = \"relu\", kernel_regularizer = L2(0.01)),\n",
    "    Dense(units = 64, activation = \"relu\", kernel_regularizer = L2(0.01)),\n",
    "    Dense(units = 1, activation = \"relu\")\n",
    "])\n",
    "\n",
    "model.compile(optimizer=Adam(),loss=MeanSquaredError())\n",
    "\n",
    "model.fit(X_train,y_train,epochs=30)\n"
   ]
  },
  {
   "cell_type": "code",
   "execution_count": null,
   "id": "5d902696",
   "metadata": {},
   "outputs": [],
   "source": []
  },
  {
   "cell_type": "code",
   "execution_count": 8,
   "id": "20b3d348",
   "metadata": {},
   "outputs": [
    {
     "name": "stdout",
     "output_type": "stream",
     "text": [
      "train ratio of correct\n",
      "0.7689115776255084\n",
      "test ratio of correct\n",
      "0.7610351322578004\n"
     ]
    }
   ],
   "source": [
    "# Use decision trees to predict marital status\n",
    "data_train = pandas.read_csv(\"adult-one-hot-train.csv\").to_numpy()\n",
    "# print(data_train_2)\n",
    "\n",
    "X_train_2 = data_train[:,1:-1]\n",
    "y_train_2 = data_train[:,0]\n",
    "\n",
    "data_test = pandas.read_csv(\"adult-one-hot-test.csv\").to_numpy()\n",
    "\n",
    "X_test_2 = data_test[:,1:-1]\n",
    "y_test_2 = data_test[:,0]\n",
    "\n",
    "## Fit model\n",
    "dec_tree = XGBClassifier()\n",
    "dec_tree.fit(X_train_2,y_train_2)\n",
    "\n",
    "## Predict on training dataset\n",
    "predictions_train_2 = dec_tree.predict(X_train_2)\n",
    "#predictions_train = #np.where(probabilities_train >= 0.5, 1, 0)\n",
    "\n",
    "misclassifications_train_2 = 0\n",
    "\n",
    "for i in range(len(predictions_train_2)):\n",
    "    if (predictions_train_2[i] == y_train_2[i]):\n",
    "        misclassifications_train_2 += 1\n",
    "        \n",
    "print(\"train ratio of correct\")\n",
    "print(misclassifications_train_2/len(predictions_train_2))\n",
    "\n",
    "##########\n",
    "\n",
    "predictions_test_2 = dec_tree.predict(X_test_2)\n",
    "# predictions_test = np.where(probabilities_test >= 0.5, 1, 0)\n",
    "\n",
    "misclassifications_test_2 = 0\n",
    "\n",
    "for i in range(len(predictions_test_2)):\n",
    "    if (predictions_test_2[i] == y_test_2[i]):\n",
    "        misclassifications_test_2 += 1\n",
    "\n",
    "print(\"test ratio of correct\")\n",
    "print(misclassifications_test_2/len(predictions_test_2))\n"
   ]
  },
  {
   "cell_type": "code",
   "execution_count": 9,
   "id": "23caefd4",
   "metadata": {},
   "outputs": [
    {
     "name": "stdout",
     "output_type": "stream",
     "text": [
      "train MSE\n",
      "10023217712.796402\n",
      "test MSE\n",
      "11038538430.688465\n"
     ]
    }
   ],
   "source": [
    "# Use decision trees to predict income\n",
    "data_train = pandas.read_csv(\"adult-one-hot-train-income.csv\").to_numpy()\n",
    "# print(data_train_2)\n",
    "\n",
    "X_train_2 = data_train[:,1:-1]\n",
    "y_train_2 = data_train[:,0]\n",
    "\n",
    "data_test = pandas.read_csv(\"adult-one-hot-test-income.csv\").to_numpy()\n",
    "\n",
    "X_test_2 = data_test[:,1:-1]\n",
    "y_test_2 = data_test[:,0]\n",
    "\n",
    "## Fit model\n",
    "dec_tree = XGBRegressor()\n",
    "dec_tree.fit(X_train_2,y_train_2)\n",
    "\n",
    "## Predict on training dataset\n",
    "predictions_train_2 = dec_tree.predict(X_train_2)\n",
    "#predictions_train = #np.where(probabilities_train >= 0.5, 1, 0)\n",
    "\n",
    "MSE = 0\n",
    "\n",
    "for i in range(len(predictions_train_2)):\n",
    "    MSE += (predictions_train_2[i] - y_train_2[i])**2\n",
    "MSE = MSE/len(predictions_train_2)\n",
    "print(\"train MSE\")\n",
    "print(MSE)\n",
    "\n",
    "##########\n",
    "\n",
    "predictions_test_2 = dec_tree.predict(X_test_2)\n",
    "# predictions_test = np.where(probabilities_test >= 0.5, 1, 0)\n",
    "\n",
    "MSE = 0\n",
    "\n",
    "for i in range(len(predictions_test_2)):\n",
    "    MSE += (predictions_test_2[i] - y_test_2[i])**2\n",
    "MSE = MSE/len(predictions_test_2)\n",
    "\n",
    "print(\"test MSE\")\n",
    "print(MSE)\n"
   ]
  },
  {
   "cell_type": "code",
   "execution_count": null,
   "id": "a0cdf6c7",
   "metadata": {},
   "outputs": [],
   "source": []
  }
 ],
 "metadata": {
  "kernelspec": {
   "display_name": "Python 3 (ipykernel)",
   "language": "python",
   "name": "python3"
  },
  "language_info": {
   "codemirror_mode": {
    "name": "ipython",
    "version": 3
   },
   "file_extension": ".py",
   "mimetype": "text/x-python",
   "name": "python",
   "nbconvert_exporter": "python",
   "pygments_lexer": "ipython3",
   "version": "3.8.15"
  }
 },
 "nbformat": 4,
 "nbformat_minor": 5
}
