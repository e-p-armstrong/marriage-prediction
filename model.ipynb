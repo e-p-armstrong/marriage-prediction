{
 "cells": [
  {
   "cell_type": "code",
   "execution_count": 5,
   "id": "9f6e1630",
   "metadata": {},
   "outputs": [],
   "source": [
    "import tensorflow as tf\n",
    "from tensorflow.keras.models import Sequential\n",
    "from tensorflow.keras.layers import Dense\n",
    "from tensorflow.keras.activations import linear, relu, sigmoid\n",
    "import numpy as np\n",
    "import pandas\n",
    "from sklearn.preprocessing import StandardScaler\n",
    "from tensorflow.keras.optimizers.legacy import Adam\n",
    "from tensorflow.keras.regularizers import L2\n",
    "from xgboost import XGBClassifier"
   ]
  },
  {
   "cell_type": "code",
   "execution_count": null,
   "id": "420249bd",
   "metadata": {},
   "outputs": [],
   "source": []
  },
  {
   "cell_type": "code",
   "execution_count": null,
   "id": "5d902696",
   "metadata": {},
   "outputs": [],
   "source": []
  },
  {
   "cell_type": "code",
   "execution_count": 6,
   "id": "20b3d348",
   "metadata": {},
   "outputs": [
    {
     "name": "stdout",
     "output_type": "stream",
     "text": [
      "train ratio of correct\n",
      "0.7697851546504327\n",
      "test ratio of correct\n",
      "0.755302596019982\n"
     ]
    }
   ],
   "source": [
    "# Use decision trees to predict\n",
    "data_train = pandas.read_csv(\"adult-one-hot-train.csv\").to_numpy()\n",
    "# print(data_train_2)\n",
    "\n",
    "X_train_2 = data_train[:,1:-1]\n",
    "y_train_2 = data_train[:,0]\n",
    "\n",
    "data_test = pandas.read_csv(\"adult-one-hot-test.csv\").to_numpy()\n",
    "\n",
    "X_test_2 = data_test[:,1:-1]\n",
    "y_test_2 = data_test[:,0]\n",
    "\n",
    "## Fit model\n",
    "dec_tree = XGBClassifier()\n",
    "dec_tree.fit(X_train_2,y_train_2)\n",
    "\n",
    "## Predict on training dataset\n",
    "predictions_train_2 = dec_tree.predict(X_train_2)\n",
    "#predictions_train = #np.where(probabilities_train >= 0.5, 1, 0)\n",
    "\n",
    "misclassifications_train_2 = 0\n",
    "\n",
    "for i in range(len(predictions_train_2)):\n",
    "    if (predictions_train_2[i] == y_train_2[i]):\n",
    "        misclassifications_train_2 += 1\n",
    "        \n",
    "print(\"train ratio of correct\")\n",
    "print(misclassifications_train_2/len(predictions_train_2))\n",
    "\n",
    "##########\n",
    "\n",
    "predictions_test_2 = dec_tree.predict(X_test_2)\n",
    "# predictions_test = np.where(probabilities_test >= 0.5, 1, 0)\n",
    "\n",
    "misclassifications_test_2 = 0\n",
    "\n",
    "for i in range(len(predictions_test_2)):\n",
    "    if (predictions_test_2[i] == y_test_2[i]):\n",
    "        misclassifications_test_2 += 1\n",
    "\n",
    "print(\"test ratio of correct\")\n",
    "print(misclassifications_test_2/len(predictions_test_2))\n"
   ]
  },
  {
   "cell_type": "code",
   "execution_count": null,
   "id": "23caefd4",
   "metadata": {},
   "outputs": [],
   "source": []
  }
 ],
 "metadata": {
  "kernelspec": {
   "display_name": "Python 3 (ipykernel)",
   "language": "python",
   "name": "python3"
  },
  "language_info": {
   "codemirror_mode": {
    "name": "ipython",
    "version": 3
   },
   "file_extension": ".py",
   "mimetype": "text/x-python",
   "name": "python",
   "nbconvert_exporter": "python",
   "pygments_lexer": "ipython3",
   "version": "3.8.15"
  }
 },
 "nbformat": 4,
 "nbformat_minor": 5
}
